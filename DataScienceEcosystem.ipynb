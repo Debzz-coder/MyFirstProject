{
 "cells": [
  {
   "cell_type": "markdown",
   "id": "af4cb51f-9146-4a86-b7e0-3e0d5d9a922b",
   "metadata": {},
   "source": [
    "# Create a markdown cell with the title Data Science Tools and Ecosystem using H1 style heading.\n",
    "# Data Science Tools and Ecosystem "
   ]
  },
  {
   "cell_type": "markdown",
   "id": "a01c7921-50a3-442b-ac27-7feb4971b96a",
   "metadata": {},
   "source": [
    "# introduction\n",
    "In this notebook, Data Science Tools and Ecosystem are summarized."
   ]
  },
  {
   "cell_type": "markdown",
   "id": "a31a56ba-7cdb-4ead-84cc-c8538fb8f809",
   "metadata": {
    "tags": []
   },
   "source": [
    "**Objectives:**\n",
    "- List popular languages that Data Scientists use\n",
    "- Some commonly used libraries used by Data Scientists\n",
    "- Some open source tools used in data science\n",
    "- convert minutes to hours\n",
    "- Some arithmatic expressions"
   ]
  },
  {
   "cell_type": "markdown",
   "id": "a0f3def4-b6ef-4e0e-972c-90b2ade4bea2",
   "metadata": {},
   "source": [
    "# Create a markdown cell to list data science languages\n",
    "# Some of the popular languages that Data Scientists use are:\n",
    "1. Python\n",
    "2. R\n",
    "3. SQL\n",
    "4. Java\n",
    "5. Scala\n",
    "6. Julia\n",
    "7. MatLab"
   ]
  },
  {
   "cell_type": "markdown",
   "id": "c396cc91-7df3-4654-88d6-dd2c13118ac1",
   "metadata": {},
   "source": [
    "# Create a markdown cell to list data science libraries\n",
    "# Some of the commonly used libraries used by Data Scientists include:\n",
    "1. NumPy\n",
    "2. pandas\n",
    "3. Matplotlib\n",
    "4. TensorFlow\n",
    "5. ggplot2"
   ]
  },
  {
   "cell_type": "markdown",
   "id": "d4d6b6da-9ee4-4143-9c82-97445edaadf9",
   "metadata": {
    "tags": []
   },
   "source": [
    "# Create a markdown cell with a table of Data Science tools\n",
    "| Data Science Tools |\n",
    "| ------ |\n",
    "| Jupyter Notebooks |\n",
    "| RStudio |\n",
    "| Apache Zeppelin|"
   ]
  },
  {
   "cell_type": "markdown",
   "id": "c4542612-ae7b-47c7-a0d5-41e58a444c15",
   "metadata": {
    "tags": []
   },
   "source": [
    "# Create a markdown cell introducing arithmetic expression examples\n",
    "### Below are a few examples of evaluating arithmetic expressions in Python\n"
   ]
  },
  {
   "cell_type": "code",
   "execution_count": 6,
   "id": "002213a0-31f0-4089-8df7-fa78a4c6a21f",
   "metadata": {
    "tags": []
   },
   "outputs": [
    {
     "data": {
      "text/plain": [
       "5"
      ]
     },
     "execution_count": 6,
     "metadata": {},
     "output_type": "execute_result"
    }
   ],
   "source": [
    "2+3"
   ]
  },
  {
   "cell_type": "code",
   "execution_count": 7,
   "id": "1b331263-a964-4713-b305-ca3390e605bc",
   "metadata": {
    "tags": []
   },
   "outputs": [
    {
     "data": {
      "text/plain": [
       "4"
      ]
     },
     "execution_count": 7,
     "metadata": {},
     "output_type": "execute_result"
    }
   ],
   "source": [
    "3+1"
   ]
  },
  {
   "cell_type": "code",
   "execution_count": 8,
   "id": "29629e68-d3ed-4ab6-b917-c4c815fa0232",
   "metadata": {
    "tags": []
   },
   "outputs": [
    {
     "data": {
      "text/plain": [
       "13"
      ]
     },
     "execution_count": 8,
     "metadata": {},
     "output_type": "execute_result"
    }
   ],
   "source": [
    "6+7"
   ]
  },
  {
   "cell_type": "code",
   "execution_count": 9,
   "id": "73e621e1-acd4-48ee-9db1-0a3f40470085",
   "metadata": {
    "tags": []
   },
   "outputs": [
    {
     "data": {
      "text/plain": [
       "17"
      ]
     },
     "execution_count": 9,
     "metadata": {},
     "output_type": "execute_result"
    }
   ],
   "source": [
    "# Create a code cell to multiply and add numbers\n",
    "# This a simple arithmetic expression to mutiply then add integers\n",
    "(3*4)+5"
   ]
  },
  {
   "cell_type": "code",
   "execution_count": 10,
   "id": "07a53f76-1682-4959-a396-1fe4f7990561",
   "metadata": {
    "tags": []
   },
   "outputs": [
    {
     "data": {
      "text/plain": [
       "3.3333333333333335"
      ]
     },
     "execution_count": 10,
     "metadata": {},
     "output_type": "execute_result"
    }
   ],
   "source": [
    "# Create a code cell to convert minutes to hours\n",
    "# This will convert 200 minutes to hours by diving by 60\n",
    "200/60"
   ]
  },
  {
   "cell_type": "markdown",
   "id": "cb71e327-cfd8-4cba-960a-1cbbd97a32e3",
   "metadata": {},
   "source": [
    "## Author\n",
    "Debarupa Biswas"
   ]
  },
  {
   "cell_type": "code",
   "execution_count": null,
   "id": "394f7739-71fe-407a-af23-24edd3d8aa71",
   "metadata": {},
   "outputs": [],
   "source": []
  }
 ],
 "metadata": {
  "kernelspec": {
   "display_name": "Python",
   "language": "python",
   "name": "conda-env-python-py"
  },
  "language_info": {
   "codemirror_mode": {
    "name": "ipython",
    "version": 3
   },
   "file_extension": ".py",
   "mimetype": "text/x-python",
   "name": "python",
   "nbconvert_exporter": "python",
   "pygments_lexer": "ipython3",
   "version": "3.7.12"
  }
 },
 "nbformat": 4,
 "nbformat_minor": 5
}
